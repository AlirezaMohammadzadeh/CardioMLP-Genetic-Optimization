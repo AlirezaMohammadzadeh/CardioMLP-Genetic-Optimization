{
 "cells": [
  {
   "cell_type": "code",
   "execution_count": 4,
   "metadata": {},
   "outputs": [],
   "source": [
    "import numpy as np\n",
    "from sklearn.datasets import load_digits\n",
    "from sklearn.model_selection import train_test_split\n",
    "from sklearn.neural_network import MLPClassifier\n",
    "from sklearn.metrics import accuracy_score\n",
    "from deap import base, creator, tools, algorithms\n",
    "import random\n"
   ]
  },
  {
   "cell_type": "code",
   "execution_count": 5,
   "metadata": {},
   "outputs": [],
   "source": [
    "# Load dataset\n",
    "digits = load_digits()\n",
    "X = digits.data\n",
    "y = digits.target\n",
    "\n",
    "# Split dataset into training and testing sets\n",
    "X_train, X_test, y_train, y_test = train_test_split(X, y, test_size=0.3, random_state=42)\n"
   ]
  },
  {
   "cell_type": "code",
   "execution_count": 6,
   "metadata": {},
   "outputs": [],
   "source": [
    "def evaluate(individual):\n",
    "    # Decode individual to hyperparameters\n",
    "    hidden_layer_sizes = tuple([int(ind) for ind in individual[:2]])  # Use the first two genes for hidden layers\n",
    "    activation = [\"identity\", \"logistic\", \"tanh\", \"relu\"][individual[2]]  # Use the third gene for activation function\n",
    "    solver = [\"lbfgs\", \"sgd\", \"adam\"][individual[3]]  # Use the fourth gene for solver\n",
    "    alpha = individual[4]  # Use the fifth gene for alpha\n",
    "\n",
    "    # Initialize MLPClassifier with these hyperparameters\n",
    "    mlp = MLPClassifier(hidden_layer_sizes=hidden_layer_sizes,\n",
    "                        activation=activation,\n",
    "                        solver=solver,\n",
    "                        alpha=alpha,\n",
    "                        max_iter=2000, random_state=42)\n",
    "    \n",
    "    # Train the model\n",
    "    mlp.fit(X_train, y_train)\n",
    "    \n",
    "    # Predict and evaluate accuracy\n",
    "    predictions = mlp.predict(X_test)\n",
    "    accuracy = accuracy_score(y_test, predictions)\n",
    "    \n",
    "    return (accuracy,)\n"
   ]
  },
  {
   "cell_type": "code",
   "execution_count": 9,
   "metadata": {},
   "outputs": [
    {
     "name": "stderr",
     "output_type": "stream",
     "text": [
      "c:\\Users\\Alireza\\anaconda3\\envs\\recommendersystem\\lib\\site-packages\\deap\\creator.py:185: RuntimeWarning: A class named 'FitnessMax' has already been created and it will be overwritten. Consider deleting previous creation of that class or rename it.\n",
      "  warnings.warn(\"A class named '{0}' has already been created and it \"\n",
      "c:\\Users\\Alireza\\anaconda3\\envs\\recommendersystem\\lib\\site-packages\\deap\\creator.py:185: RuntimeWarning: A class named 'Individual' has already been created and it will be overwritten. Consider deleting previous creation of that class or rename it.\n",
      "  warnings.warn(\"A class named '{0}' has already been created and it \"\n"
     ]
    }
   ],
   "source": [
    "# Define the individual (hyperparameters to be optimized)\n",
    "creator.create(\"FitnessMax\", base.Fitness, weights=(1.0,))\n",
    "creator.create(\"Individual\", list, fitness=creator.FitnessMax)\n",
    "\n",
    "toolbox = base.Toolbox()\n",
    "\n",
    "# Define the gene ranges for each hyperparameter\n",
    "toolbox.register(\"attr_hidden_layer_size\", random.randint, 10, 200)\n",
    "toolbox.register(\"attr_activation\", random.randint, 0, 3)\n",
    "toolbox.register(\"attr_solver\", random.randint, 0, 2)\n",
    "toolbox.register(\"attr_alpha\", random.uniform, 0.0001, 0.01)\n",
    "\n",
    "# Define the individual and population\n",
    "toolbox.register(\"individual\", tools.initCycle, creator.Individual,\n",
    "                 (toolbox.attr_hidden_layer_size,\n",
    "                  toolbox.attr_hidden_layer_size,\n",
    "                  toolbox.attr_activation,\n",
    "                  toolbox.attr_solver,\n",
    "                  toolbox.attr_alpha), n=1)\n",
    "\n",
    "toolbox.register(\"population\", tools.initRepeat, list, toolbox.individual)\n",
    "\n",
    "# Register the evaluation, mating, mutation, and selection functions\n",
    "toolbox.register(\"mate\", tools.cxTwoPoint)\n",
    "# Separate mutation functions: use `mutUniformInt` for integer genes and `mutGaussian` for float genes.\n",
    "toolbox.register(\"mutate_hidden_layers\", tools.mutUniformInt, low=10, up=200, indpb=0.2)\n",
    "toolbox.register(\"mutate_activation_solver\", tools.mutUniformInt, low=0, up=[3, 2], indpb=0.2)\n",
    "toolbox.register(\"mutate_alpha\", tools.mutGaussian, mu=0.0001, sigma=0.01, indpb=0.2)\n",
    "toolbox.register(\"mutate\", tools.mutShuffleIndexes, indpb=0.2)  # Use shuffle mutation for the whole individual\n",
    "toolbox.register(\"select\", tools.selTournament, tournsize=3)\n",
    "toolbox.register(\"evaluate\", evaluate)\n",
    "\n",
    "def mutate_individual(individual):\n",
    "    # Apply the integer mutations\n",
    "    individual[0:2] = tools.mutUniformInt(individual[0:2], low=[10, 10], up=[200, 200], indpb=0.2)[0]\n",
    "    individual[2:4] = tools.mutUniformInt(individual[2:4], low=[0, 0], up=[3, 2], indpb=0.2)[0]\n",
    "    # Apply the float mutation\n",
    "    individual[4] = tools.mutGaussian([individual[4]], mu=0.0001, sigma=0.01, indpb=0.2)[0][0]\n",
    "    return individual,\n",
    "\n",
    "toolbox.register(\"mutate\", mutate_individual)\n",
    "\n"
   ]
  },
  {
   "cell_type": "code",
   "execution_count": 10,
   "metadata": {},
   "outputs": [
    {
     "name": "stdout",
     "output_type": "stream",
     "text": [
      "gen\tnevals\n",
      "0  \t20    \n",
      "1  \t8     \n",
      "2  \t13    \n",
      "3  \t16    \n",
      "4  \t10    \n",
      "5  \t10    \n",
      "6  \t14    \n",
      "7  \t12    \n",
      "8  \t15    \n",
      "9  \t10    \n",
      "10 \t14    \n",
      "Best individual is: [173, 38, 2, 2, 0.002822790251854281]\n",
      "Best accuracy is: 0.9888888888888889\n"
     ]
    }
   ],
   "source": [
    "def main():\n",
    "    random.seed(42)\n",
    "    \n",
    "    # Initialize population\n",
    "    population = toolbox.population(n=20)\n",
    "    \n",
    "    # Apply the genetic algorithm\n",
    "    algorithms.eaSimple(population, toolbox, cxpb=0.5, mutpb=0.2, ngen=10, verbose=True)\n",
    "    \n",
    "    # Get the best individual\n",
    "    best_individual = tools.selBest(population, k=1)[0]\n",
    "    print(\"Best individual is:\", best_individual)\n",
    "    print(\"Best accuracy is:\", evaluate(best_individual)[0])\n",
    "\n",
    "if __name__ == \"__main__\":\n",
    "    main()"
   ]
  }
 ],
 "metadata": {
  "kernelspec": {
   "display_name": "WebScraping",
   "language": "python",
   "name": "python3"
  },
  "language_info": {
   "codemirror_mode": {
    "name": "ipython",
    "version": 3
   },
   "file_extension": ".py",
   "mimetype": "text/x-python",
   "name": "python",
   "nbconvert_exporter": "python",
   "pygments_lexer": "ipython3",
   "version": "3.10.12"
  }
 },
 "nbformat": 4,
 "nbformat_minor": 2
}
